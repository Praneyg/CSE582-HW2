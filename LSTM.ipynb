{
  "cells": [
    {
      "cell_type": "code",
      "execution_count": null,
      "metadata": {
        "id": "EVjvnYWh6F8U"
      },
      "outputs": [],
      "source": [
        "from google.colab import drive\n",
        "\n",
        "drive.mount('/content/gdrive')"
      ]
    },
    {
      "cell_type": "code",
      "execution_count": null,
      "metadata": {
        "id": "m7JlIbTh7Gf-"
      },
      "outputs": [],
      "source": [
        "%cd /content/gdrive/MyDrive/hw2/lstm"
      ]
    },
    {
      "cell_type": "code",
      "execution_count": null,
      "metadata": {
        "id": "10B-1eoW7GjN"
      },
      "outputs": [],
      "source": [
        "import pandas as pd\n",
        "import matplotlib.pyplot as plt \n",
        "from gensim.parsing.preprocessing import remove_stopwords\n",
        "from gensim.utils import simple_preprocess\n",
        "from gensim.parsing.porter import PorterStemmer\n",
        "from sklearn.model_selection import train_test_split\n",
        "import torch.nn as nn\n",
        "import torch.nn.functional as F\n",
        "import torch.optim as optim\n",
        "import torch\n",
        "from gensim.models import Word2Vec\n",
        "from sklearn.metrics import classification_report"
      ]
    },
    {
      "cell_type": "code",
      "execution_count": null,
      "metadata": {
        "id": "PbE4N6SI7Glo"
      },
      "outputs": [],
      "source": [
        "INPUT_FOLDER = '.'\n",
        "OUTPUT_FOLDER = 'csv_data'"
      ]
    },
    {
      "cell_type": "code",
      "execution_count": null,
      "metadata": {
        "id": "LqYbWW2P7Goa"
      },
      "outputs": [],
      "source": [
        "import pandas as pd\n",
        "\n",
        "def load_yelp_orig_data():\n",
        "    PATH_TO_YELP_REVIEWS = INPUT_FOLDER + '/review.json'\n",
        "\n",
        "    # read the entire file into a python array\n",
        "    with open(PATH_TO_YELP_REVIEWS, 'r') as f:\n",
        "        data = f.readlines()\n",
        "\n",
        "    # remove the trailing \"\\n\" from each line\n",
        "    data = map(lambda x: x.rstrip(), data)\n",
        "\n",
        "    data_json_str = \"[\" + ','.join(data) + \"]\"\n",
        "\n",
        "    # now, load it into pandas\n",
        "    data_df = pd.read_json(data_json_str)\n",
        "\n",
        "    data_df.head(100000).to_csv(OUTPUT_FOLDER + '/output_reviews_top.csv')\n",
        "\n",
        "load_yelp_orig_data()"
      ]
    },
    {
      "cell_type": "code",
      "execution_count": null,
      "metadata": {
        "id": "C8omZa-U7Gq1"
      },
      "outputs": [],
      "source": [
        "top_data_df = pd.read_csv(INPUT_FOLDER + '/csv_data/output_reviews_top.csv')\n",
        "print(\"Columns in the original dataset:\\n\")\n",
        "print(top_data_df.columns)"
      ]
    },
    {
      "cell_type": "code",
      "execution_count": null,
      "metadata": {
        "id": "Ix3qjTCg7Gtg"
      },
      "outputs": [],
      "source": [
        "print(\"Number of rows per star rating:\")\n",
        "print(top_data_df['stars'].value_counts())"
      ]
    },
    {
      "cell_type": "code",
      "execution_count": null,
      "metadata": {
        "id": "rKpBuwrc7GwH"
      },
      "outputs": [],
      "source": [
        "# Function to map stars to sentiment\n",
        "def map_sentiment(stars_received):\n",
        "    if stars_received <= 2:\n",
        "        return -1\n",
        "    elif stars_received == 3:\n",
        "        return 0\n",
        "    else:\n",
        "        return 1\n",
        "\n",
        "# Mapping stars to sentiment into three categories\n",
        "top_data_df['sentiment'] = [ map_sentiment(x) for x in top_data_df['stars']]\n",
        "\n",
        "# Plotting the sentiment distribution\n",
        "plt.figure()\n",
        "pd.value_counts(top_data_df['sentiment']).plot.bar(title=\"Sentiment distribution in df\")\n",
        "plt.xlabel(\"Sentiment\")\n",
        "plt.ylabel(\"No. of rows in df\")\n",
        "plt.show()"
      ]
    },
    {
      "cell_type": "code",
      "execution_count": null,
      "metadata": {
        "id": "xmeGZPUS7GzB"
      },
      "outputs": [],
      "source": [
        "# Function to retrieve top few number of each category\n",
        "def get_top_data(top_n = 5000):\n",
        "    top_data_df_positive = top_data_df[top_data_df['sentiment'] == 1].head(top_n)\n",
        "    top_data_df_negative = top_data_df[top_data_df['sentiment'] == -1].head(top_n)\n",
        "    top_data_df_neutral = top_data_df[top_data_df['sentiment'] == 0].head(top_n)\n",
        "    top_data_df_small = pd.concat([top_data_df_positive, top_data_df_negative, top_data_df_neutral])\n",
        "    return top_data_df_small\n",
        "\n",
        "# Function call to get the top 10000 from each sentiment\n",
        "top_data_df_small = get_top_data(top_n=10000)\n",
        "\n",
        "# After selecting top few samples of each sentiment\n",
        "print(\"After segregating and taking equal number of rows for each sentiment:\")\n",
        "print(top_data_df_small['sentiment'].value_counts())\n",
        "top_data_df_small.head(10)"
      ]
    },
    {
      "cell_type": "code",
      "execution_count": null,
      "metadata": {
        "id": "Nys_HVu-7G2B"
      },
      "outputs": [],
      "source": [
        "# Tokenize the text column to get the new column 'tokenized_text'\n",
        "top_data_df_small['tokenized_text'] = [simple_preprocess(line, deacc=True) for line in top_data_df_small['text']] \n",
        "print(top_data_df_small['tokenized_text'].head(10))"
      ]
    },
    {
      "cell_type": "code",
      "execution_count": null,
      "metadata": {
        "id": "iq48cvyv7G4U"
      },
      "outputs": [],
      "source": [
        "porter_stemmer = PorterStemmer()\n",
        "# Get the stemmed_tokens\n",
        "top_data_df_small['stemmed_tokens'] = [[porter_stemmer.stem(word) for word in tokens] for tokens in top_data_df_small['tokenized_text'] ]\n",
        "top_data_df_small['stemmed_tokens'].head(10)"
      ]
    },
    {
      "cell_type": "code",
      "execution_count": null,
      "metadata": {
        "id": "p0V1Plbw7G7N"
      },
      "outputs": [],
      "source": [
        "top_data_df_small['funny'] = [eval(x)['funny'] for x in top_data_df_small['votes']]\n",
        "top_data_df_small['cool'] = [eval(x)['cool'] for x in top_data_df_small['votes']]\n",
        "top_data_df_small['useful'] = [eval(x)['useful'] for x in top_data_df_small['votes']]"
      ]
    },
    {
      "cell_type": "code",
      "execution_count": null,
      "metadata": {
        "id": "kzJDC6n47G9p"
      },
      "outputs": [],
      "source": [
        "# Train Test Split Function\n",
        "def split_train_test(top_data_df_small, test_size=0.3, shuffle_state=True):\n",
        "    X_train, X_test, Y_train, Y_test = train_test_split(top_data_df_small[['business_id', 'cool', 'date', 'funny', 'review_id', 'stars', 'text', 'useful', 'user_id', 'stemmed_tokens']], \n",
        "                                                        top_data_df_small['sentiment'], \n",
        "                                                        shuffle=shuffle_state,\n",
        "                                                        test_size=test_size, \n",
        "                                                        random_state=15)\n",
        "    print(\"Value counts for Train sentiments\")\n",
        "    print(Y_train.value_counts())\n",
        "    print(\"Value counts for Test sentiments\")\n",
        "    print(Y_test.value_counts())\n",
        "    print(type(X_train))\n",
        "    print(type(Y_train))\n",
        "    X_train = X_train.reset_index()\n",
        "    X_test = X_test.reset_index()\n",
        "    Y_train = Y_train.to_frame()\n",
        "    Y_train = Y_train.reset_index()\n",
        "    Y_test = Y_test.to_frame()\n",
        "    Y_test = Y_test.reset_index()\n",
        "    print(X_train.head())\n",
        "    return X_train, X_test, Y_train, Y_test\n",
        "\n",
        "# Call the train_test_split\n",
        "X_train, X_test, Y_train, Y_test = split_train_test(top_data_df_small)"
      ]
    },
    {
      "cell_type": "code",
      "execution_count": null,
      "metadata": {
        "id": "Gks29gBw7HAx"
      },
      "outputs": [],
      "source": [
        "# Use cuda if present\n",
        "device = torch.device(\"cuda\" if torch.cuda.is_available() else \"cpu\")\n",
        "print(\"Device available for running: \")\n",
        "print(device)"
      ]
    },
    {
      "cell_type": "code",
      "execution_count": null,
      "metadata": {
        "id": "NYUSKSGk7hOB"
      },
      "outputs": [],
      "source": [
        "def make_word2vec_model(top_data_df_small, INPUT_FOLDER, padding=True, sg=1, min_count=1, size=500, workers=3, window=3):\n",
        "    if  padding:\n",
        "        print(len(top_data_df_small))\n",
        "        temp_df = pd.Series(top_data_df_small['stemmed_tokens']).values\n",
        "        temp_df = list(temp_df)\n",
        "        temp_df.append(['pad'])\n",
        "        word2vec_file = INPUT_FOLDER + '/models/' + 'word2vec_' + str(size) + '_PAD.model'\n",
        "    else:\n",
        "        temp_df = top_data_df_small['stemmed_tokens']\n",
        "        word2vec_file = INPUT_FOLDER + '/models/' + 'word2vec_' + str(size) + '.model'\n",
        "    w2v_model = Word2Vec(temp_df, min_count = min_count, vector_size=size, workers = workers, window = window, sg = sg)\n",
        "    \n",
        "    w2v_model.save(word2vec_file)\n",
        "    return w2v_model, word2vec_file"
      ]
    },
    {
      "cell_type": "code",
      "execution_count": null,
      "metadata": {
        "id": "PfEfmwZk7jdt"
      },
      "outputs": [],
      "source": [
        "from numpy import vectorize\n",
        "size = 500\n",
        "window = 3\n",
        "min_count = 1\n",
        "workers = 3\n",
        "sg = 1\n",
        "\n",
        "# train Word2vec model\n",
        "w2vmodel, word2vec_file = make_word2vec_model(top_data_df_small, INPUT_FOLDER, padding=True, sg=sg, min_count=min_count, size=size, workers=workers, window=window)\n",
        "max_sen_len = top_data_df_small.stemmed_tokens.map(len).max()\n",
        "padding_idx = w2vmodel.wv.index_to_key.index('pad')"
      ]
    },
    {
      "cell_type": "code",
      "execution_count": null,
      "metadata": {
        "id": "yIp2XbQQ7nPi"
      },
      "outputs": [],
      "source": [
        "def make_word2vec_vector_lstm(sentence, w2vmodel, max_sen_len, padding_idx, device):\n",
        "    padded_X = [padding_idx for i in range(max_sen_len)]\n",
        "    i = 0\n",
        "    for word in sentence:\n",
        "        if word not in w2vmodel.wv.index_to_key:\n",
        "            padded_X[i] = 0\n",
        "            print(word)\n",
        "        else:\n",
        "            padded_X[i] = w2vmodel.wv.index_to_key.index(word)\n",
        "        i += 1\n",
        "    return torch.tensor(padded_X, dtype=torch.long, device=device).view(1, -1)"
      ]
    },
    {
      "cell_type": "code",
      "execution_count": null,
      "metadata": {
        "id": "QZEBFr8m7nTE"
      },
      "outputs": [],
      "source": [
        "def make_target(label, device):\n",
        "    if label == -1:\n",
        "        return torch.tensor([0], dtype=torch.long, device=device)\n",
        "    elif label == 0:\n",
        "        return torch.tensor([1], dtype=torch.long, device=device)\n",
        "    else:\n",
        "        return torch.tensor([2], dtype=torch.long, device=device)"
      ]
    },
    {
      "cell_type": "code",
      "execution_count": null,
      "metadata": {
        "id": "PFbIu9Ix6wV9"
      },
      "outputs": [],
      "source": [
        "EMBEDDING_SIZE = 500\n",
        "HIDDEN_SIZE= 500\n",
        "NUM_FILTERS = 10\n",
        "import gensim\n",
        "\n",
        "class LstmTextClassifier(nn.Module):\n",
        "    def __init__(self, vocab_size, num_classes, INPUT_FOLDER, HIDDEN_SIZE, EMBEDDING_SIZE, NUM_LAYERS=1):\n",
        "        super(LstmTextClassifier, self).__init__()\n",
        "        w2vmodel = gensim.models.KeyedVectors.load(INPUT_FOLDER + '/models/' + 'word2vec_500_PAD.model')\n",
        "        weights = w2vmodel.wv\n",
        "        # With pretrained embeddings\n",
        "        self.embedding = nn.Embedding.from_pretrained(torch.FloatTensor(weights.vectors), padding_idx=w2vmodel.wv.index_to_key.index('pad'))\n",
        "        \n",
        "        self.lstm = nn.LSTM(input_size=EMBEDDING_SIZE, hidden_size=HIDDEN_SIZE, num_layers=NUM_LAYERS, batch_first=True)\n",
        "\n",
        "        self.fc = nn.Linear(HIDDEN_SIZE, num_classes)\n",
        "\n",
        "    def forward(self, x):\n",
        "        x = self.embedding(x) # [B, T, E]\n",
        "        out, _ = self.lstm(x) # [B, T, H]\n",
        "        \n",
        "        # Extract the last hidden state of the sequence as the representation for classification\n",
        "        last_hidden = out[:, -1, :]\n",
        "        logits = self.fc(last_hidden)\n",
        "        probs = F.softmax(logits, dim=1)\n",
        "\n",
        "        return probs\n"
      ]
    },
    {
      "cell_type": "code",
      "execution_count": null,
      "metadata": {
        "id": "KyNiESbC7tRv"
      },
      "outputs": [],
      "source": [
        "NUM_CLASSES = 3\n",
        "VOCAB_SIZE = len(w2vmodel.wv.index_to_key)\n",
        "\n",
        "lstm_model = LstmTextClassifier(vocab_size=VOCAB_SIZE, num_classes=NUM_CLASSES, INPUT_FOLDER=INPUT_FOLDER, HIDDEN_SIZE=HIDDEN_SIZE, EMBEDDING_SIZE=EMBEDDING_SIZE)\n",
        "\n",
        "lstm_model.to(device)\n",
        "loss_function = nn.CrossEntropyLoss()\n",
        "optimizer = optim.Adam(lstm_model.parameters(), lr=0.001)\n",
        "num_epochs = 30\n",
        "\n",
        "# Open the file for writing loss\n",
        "loss_file_name = INPUT_FOLDER +  '/plots/' + 'lstm_class_big_loss_with_padding.csv'\n",
        "f = open(loss_file_name,'w')\n",
        "f.write('iter, loss')\n",
        "f.write('\\n')\n",
        "losses = []\n",
        "lstm_model.train()\n",
        "\n",
        "for epoch in range(num_epochs):\n",
        "    print(\"Epoch \" + str(epoch + 1))\n",
        "    train_loss = 0\n",
        "    for index, row in X_train.iterrows():\n",
        "        # Clearing the accumulated gradients\n",
        "        lstm_model.zero_grad()\n",
        "\n",
        "        # Make the bag of words vector for stemmed tokens \n",
        "        bow_vec = make_word2vec_vector_lstm(row['stemmed_tokens'], w2vmodel, max_sen_len, padding_idx, device)\n",
        "       \n",
        "        # Forward pass to get output\n",
        "        probs = lstm_model(bow_vec)\n",
        "\n",
        "        # Get the target label\n",
        "        target = make_target(Y_train['sentiment'][index], device)\n",
        "\n",
        "        # Calculate Loss: softmax --> cross entropy loss\n",
        "        loss = loss_function(probs, target)\n",
        "        train_loss += loss.item()\n",
        "\n",
        "        # Getting gradients w.r.t. parameters\n",
        "        loss.backward()\n",
        "\n",
        "        # Updating parameters\n",
        "        optimizer.step()\n",
        "\n",
        "    print(\"Epoch ran :\"+ str(epoch+1))\n",
        "    f.write(str((epoch+1)) + \",\" + str(train_loss / len(X_train)))\n",
        "    f.write('\\n')\n",
        "    train_loss = 0\n",
        "\n",
        "torch.save(lstm_model, INPUT_FOLDER + 'lstm_big_model_500_with_padding.pth')\n",
        "f.close()"
      ]
    },
    {
      "cell_type": "code",
      "execution_count": null,
      "metadata": {
        "id": "g3hY_3KW7u5a"
      },
      "outputs": [],
      "source": [
        "print(\"Input vector\")\n",
        "print(bow_vec.cpu().numpy())\n",
        "print(\"Probs\")\n",
        "print(probs)\n",
        "print(torch.argmax(probs, dim=1).cpu().numpy()[0])"
      ]
    },
    {
      "cell_type": "code",
      "execution_count": null,
      "metadata": {
        "id": "UyVHEanL7wGr"
      },
      "outputs": [],
      "source": [
        "bow_lstm_predictions = []\n",
        "original_lables_lstm_bow = []\n",
        "lstm_model.eval()\n",
        "loss_df = pd.read_csv(INPUT_FOLDER + '/plots/' + 'lstm_class_big_loss_with_padding.csv')\n",
        "print(loss_df.columns)\n",
        "with torch.no_grad():\n",
        "    for index, row in X_test.iterrows():\n",
        "        bow_vec = make_word2vec_vector_lstm(row['stemmed_tokens'], w2vmodel, max_sen_len, padding_idx, device)\n",
        "        probs = lstm_model(bow_vec)\n",
        "        _, predicted = torch.max(probs.data, 1)\n",
        "        bow_lstm_predictions.append(predicted.cpu().numpy()[0])\n",
        "        original_lables_lstm_bow.append(make_target(Y_test['sentiment'][index], device).cpu().numpy()[0])\n",
        "print(classification_report(original_lables_lstm_bow,bow_lstm_predictions))\n",
        "loss_file_name = INPUT_FOLDER +  '/plots/' + 'lstm_class_big_loss_with_padding.csv'\n",
        "loss_df = pd.read_csv(loss_file_name)\n",
        "print(loss_df.columns)\n",
        "plt_500_padding_30_epochs = loss_df[' loss'].plot()\n",
        "fig = plt_500_padding_30_epochs.get_figure()\n",
        "fig.savefig(INPUT_FOLDER +'/plots/' + 'loss_plt_500_padding_30_epochs.pdf')"
      ]
    }
  ],
  "metadata": {
    "accelerator": "GPU",
    "colab": {
      "provenance": []
    },
    "gpuClass": "standard",
    "kernelspec": {
      "display_name": "Python 3",
      "name": "python3"
    },
    "language_info": {
      "name": "python"
    }
  },
  "nbformat": 4,
  "nbformat_minor": 0
}